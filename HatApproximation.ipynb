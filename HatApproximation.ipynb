{
 "cells": [
  {
   "cell_type": "markdown",
   "metadata": {},
   "source": [
    "# Approximating the Triangle Function\n",
    "\n",
    "f(x) = max(1 - abs(x), 0)\n"
   ]
  },
  {
   "cell_type": "code",
   "execution_count": null,
   "metadata": {
    "colab": {},
    "colab_type": "code",
    "id": "5GG2lMbjOyDo"
   },
   "outputs": [],
   "source": [
    "import numpy as np\n",
    "import os\n",
    "import torch\n",
    "import torch.nn as nn\n",
    "import torch.nn.functional as F\n",
    "import matplotlib.pyplot as plt\n",
    "from functions.hat_function import hat_function, HatApproxNet "
   ]
  },
  {
   "cell_type": "code",
   "execution_count": null,
   "metadata": {
    "colab": {},
    "colab_type": "code",
    "id": "j043jAKTO4go"
   },
   "outputs": [],
   "source": [
    "device = torch.device(\"cuda:0\" if torch.cuda.is_available() else \"cpu\")\n",
    "path = \"saved_models/\"\n",
    "model_name = \"hat_function.pth\"\n",
    "load_model = True\n",
    "\n",
    "#Can specify a hidden_dim parameter but be careful when loading and saving weights\n",
    "model = HatApproxNet().to(device)\n",
    "\n",
    "for m in model.modules():\n",
    "  if isinstance(m, nn.Linear):\n",
    "    nn.init.xavier_normal_(m.weight)\n",
    "\n",
    "if model_name in os.listdir(path) and load_model:\n",
    "    model.load_state_dict(torch.load(path + model_name, map_location = device))\n",
    "    \n",
    "optimizer = torch.optim.Adam(model.parameters(), lr = 0.0004)"
   ]
  },
  {
   "cell_type": "code",
   "execution_count": null,
   "metadata": {
    "colab": {
     "base_uri": "https://localhost:8080/",
     "height": 1000
    },
    "colab_type": "code",
    "id": "7X5tUjhTO-IK",
    "outputId": "32c50f3f-f4c4-46ab-8da5-add255685a93"
   },
   "outputs": [],
   "source": [
    "iterations = 300000\n",
    "for iteration in range(iterations + 1):\n",
    "  data = torch.Tensor(np.random.uniform(-3.01, 3.01, size = (32, 1))).to(device)\n",
    "  targets = torch.Tensor([hat_function(i) for i in data]).view(-1, 1).to(device)\n",
    "\n",
    "  model.zero_grad()\n",
    "  predictions = model(data)\n",
    "\n",
    "  loss = torch.mean((targets - predictions)**2)\n",
    "  loss.backward()\n",
    "  optimizer.step()\n",
    "\n",
    "  if iteration%2000 == 0:\n",
    "    print(iteration, loss)"
   ]
  },
  {
   "cell_type": "code",
   "execution_count": null,
   "metadata": {},
   "outputs": [],
   "source": [
    "torch.save(model.state_dict(), path + model_name)"
   ]
  },
  {
   "cell_type": "markdown",
   "metadata": {},
   "source": [
    "Here's a quick look at how the model is doing versus the actual function on a nice plot."
   ]
  },
  {
   "cell_type": "code",
   "execution_count": null,
   "metadata": {
    "colab": {},
    "colab_type": "code",
    "id": "u2EA_u0rPCoC"
   },
   "outputs": [],
   "source": [
    "with torch.no_grad():\n",
    "  model.eval()\n",
    "  A = torch.Tensor(np.random.uniform(-3.01, 3.01, size = (1024, 1))).cuda()\n",
    "  T = torch.Tensor([hat_function(i) for i in A]).view(-1, 1).cuda()\n",
    "  B = model(A)\n",
    "\n",
    "MSE = torch.mean((T - B)**2)\n",
    "f = plt.figure(figsize = (14, 14))\n",
    "plt.plot(A.cpu(), B.cpu(), 'C1.', label = \"Model\")\n",
    "plt.plot(A.cpu(), T.cpu(), 'C0.', alpha= 0.4, label = \"Actual\")\n",
    "plt.title(\"MSE error of \" + str(MSE.cpu().numpy()))\n",
    "plt.legend()\n",
    "plt.show()\n"
   ]
  },
  {
   "cell_type": "markdown",
   "metadata": {},
   "source": [
    "Below is a test to see how much slower this \"function\" call is with respect to one of the torch functionals such as tanh or relu.\n",
    "The triangle/hat function takes around **4** times the time of a normal function call but it may be negligible in the larger scheme of things."
   ]
  },
  {
   "cell_type": "code",
   "execution_count": null,
   "metadata": {
    "colab": {},
    "colab_type": "code",
    "id": "p4TYFEspa8ri"
   },
   "outputs": [],
   "source": [
    "import time\n",
    "import datetime\n",
    "\n",
    "with torch.no_grad():\n",
    "  model.eval()\n",
    "\n",
    "  A = torch.Tensor(np.random.uniform(-3.01, 3.01, size = (1024, 1))).to(device)\n",
    "  T = torch.Tensor([hat_function(i) for i in A]).view(-1, 1).to(device)\n",
    "  \n",
    "  s = time.time()\n",
    "  B = model(data)\n",
    "  print(\"Time taken by model :\", datetime.timedelta(seconds = time.time() - s))  \n",
    "\n",
    "  s = time.time()\n",
    "  B = F.relu(data)\n",
    "  print(\"Time taken by F :\", datetime.timedelta(seconds = time.time() - s))"
   ]
  }
 ],
 "metadata": {
  "accelerator": "GPU",
  "colab": {
   "collapsed_sections": [],
   "name": "HatApproximation.ipynb",
   "provenance": []
  },
  "kernelspec": {
   "display_name": "Python 3",
   "language": "python",
   "name": "python3"
  },
  "language_info": {
   "codemirror_mode": {
    "name": "ipython",
    "version": 3
   },
   "file_extension": ".py",
   "mimetype": "text/x-python",
   "name": "python",
   "nbconvert_exporter": "python",
   "pygments_lexer": "ipython3",
   "version": "3.6.5"
  }
 },
 "nbformat": 4,
 "nbformat_minor": 1
}
